{
 "cells": [
  {
   "cell_type": "code",
   "execution_count": 14,
   "id": "fdffb055",
   "metadata": {},
   "outputs": [],
   "source": [
    "import numpy as np\n",
    "import pandas as pd\n",
    "import matplotlib.pyplot as plt\n",
    "import seaborn as sns\n",
    "import warnings\n",
    "warnings.filterwarnings(\"ignore\")"
   ]
  },
  {
   "cell_type": "code",
   "execution_count": 15,
   "id": "5204574e",
   "metadata": {},
   "outputs": [
    {
     "data": {
      "text/html": [
       "<div>\n",
       "<style scoped>\n",
       "    .dataframe tbody tr th:only-of-type {\n",
       "        vertical-align: middle;\n",
       "    }\n",
       "\n",
       "    .dataframe tbody tr th {\n",
       "        vertical-align: top;\n",
       "    }\n",
       "\n",
       "    .dataframe thead th {\n",
       "        text-align: right;\n",
       "    }\n",
       "</style>\n",
       "<table border=\"1\" class=\"dataframe\">\n",
       "  <thead>\n",
       "    <tr style=\"text-align: right;\">\n",
       "      <th></th>\n",
       "      <th>gender</th>\n",
       "      <th>race/ethnicity</th>\n",
       "      <th>parental level of education</th>\n",
       "      <th>lunch</th>\n",
       "      <th>test preparation course</th>\n",
       "      <th>math score</th>\n",
       "      <th>reading score</th>\n",
       "      <th>writing score</th>\n",
       "    </tr>\n",
       "  </thead>\n",
       "  <tbody>\n",
       "    <tr>\n",
       "      <th>0</th>\n",
       "      <td>female</td>\n",
       "      <td>group C</td>\n",
       "      <td>some high school</td>\n",
       "      <td>free/reduced</td>\n",
       "      <td>none</td>\n",
       "      <td>0</td>\n",
       "      <td>17</td>\n",
       "      <td>10</td>\n",
       "    </tr>\n",
       "    <tr>\n",
       "      <th>1</th>\n",
       "      <td>female</td>\n",
       "      <td>group B</td>\n",
       "      <td>high school</td>\n",
       "      <td>free/reduced</td>\n",
       "      <td>none</td>\n",
       "      <td>8</td>\n",
       "      <td>24</td>\n",
       "      <td>23</td>\n",
       "    </tr>\n",
       "    <tr>\n",
       "      <th>2</th>\n",
       "      <td>female</td>\n",
       "      <td>group B</td>\n",
       "      <td>some high school</td>\n",
       "      <td>free/reduced</td>\n",
       "      <td>none</td>\n",
       "      <td>18</td>\n",
       "      <td>32</td>\n",
       "      <td>28</td>\n",
       "    </tr>\n",
       "    <tr>\n",
       "      <th>3</th>\n",
       "      <td>female</td>\n",
       "      <td>group B</td>\n",
       "      <td>some college</td>\n",
       "      <td>standard</td>\n",
       "      <td>none</td>\n",
       "      <td>11</td>\n",
       "      <td>38</td>\n",
       "      <td>32</td>\n",
       "    </tr>\n",
       "    <tr>\n",
       "      <th>4</th>\n",
       "      <td>female</td>\n",
       "      <td>group C</td>\n",
       "      <td>some college</td>\n",
       "      <td>free/reduced</td>\n",
       "      <td>none</td>\n",
       "      <td>22</td>\n",
       "      <td>39</td>\n",
       "      <td>33</td>\n",
       "    </tr>\n",
       "    <tr>\n",
       "      <th>...</th>\n",
       "      <td>...</td>\n",
       "      <td>...</td>\n",
       "      <td>...</td>\n",
       "      <td>...</td>\n",
       "      <td>...</td>\n",
       "      <td>...</td>\n",
       "      <td>...</td>\n",
       "      <td>...</td>\n",
       "    </tr>\n",
       "    <tr>\n",
       "      <th>995</th>\n",
       "      <td>male</td>\n",
       "      <td>group E</td>\n",
       "      <td>some college</td>\n",
       "      <td>standard</td>\n",
       "      <td>completed</td>\n",
       "      <td>99</td>\n",
       "      <td>87</td>\n",
       "      <td>81</td>\n",
       "    </tr>\n",
       "    <tr>\n",
       "      <th>996</th>\n",
       "      <td>male</td>\n",
       "      <td>group A</td>\n",
       "      <td>some college</td>\n",
       "      <td>standard</td>\n",
       "      <td>completed</td>\n",
       "      <td>100</td>\n",
       "      <td>96</td>\n",
       "      <td>86</td>\n",
       "    </tr>\n",
       "    <tr>\n",
       "      <th>997</th>\n",
       "      <td>male</td>\n",
       "      <td>group D</td>\n",
       "      <td>some college</td>\n",
       "      <td>standard</td>\n",
       "      <td>completed</td>\n",
       "      <td>100</td>\n",
       "      <td>97</td>\n",
       "      <td>99</td>\n",
       "    </tr>\n",
       "    <tr>\n",
       "      <th>998</th>\n",
       "      <td>male</td>\n",
       "      <td>group E</td>\n",
       "      <td>associate's degree</td>\n",
       "      <td>free/reduced</td>\n",
       "      <td>completed</td>\n",
       "      <td>100</td>\n",
       "      <td>100</td>\n",
       "      <td>93</td>\n",
       "    </tr>\n",
       "    <tr>\n",
       "      <th>999</th>\n",
       "      <td>male</td>\n",
       "      <td>group E</td>\n",
       "      <td>bachelor's degree</td>\n",
       "      <td>standard</td>\n",
       "      <td>completed</td>\n",
       "      <td>100</td>\n",
       "      <td>100</td>\n",
       "      <td>100</td>\n",
       "    </tr>\n",
       "  </tbody>\n",
       "</table>\n",
       "<p>1000 rows × 8 columns</p>\n",
       "</div>"
      ],
      "text/plain": [
       "     gender race/ethnicity parental level of education         lunch  \\\n",
       "0    female        group C            some high school  free/reduced   \n",
       "1    female        group B                 high school  free/reduced   \n",
       "2    female        group B            some high school  free/reduced   \n",
       "3    female        group B                some college      standard   \n",
       "4    female        group C                some college  free/reduced   \n",
       "..      ...            ...                         ...           ...   \n",
       "995    male        group E                some college      standard   \n",
       "996    male        group A                some college      standard   \n",
       "997    male        group D                some college      standard   \n",
       "998    male        group E          associate's degree  free/reduced   \n",
       "999    male        group E           bachelor's degree      standard   \n",
       "\n",
       "    test preparation course  math score  reading score  writing score  \n",
       "0                      none           0             17             10  \n",
       "1                      none           8             24             23  \n",
       "2                      none          18             32             28  \n",
       "3                      none          11             38             32  \n",
       "4                      none          22             39             33  \n",
       "..                      ...         ...            ...            ...  \n",
       "995               completed          99             87             81  \n",
       "996               completed         100             96             86  \n",
       "997               completed         100             97             99  \n",
       "998               completed         100            100             93  \n",
       "999               completed         100            100            100  \n",
       "\n",
       "[1000 rows x 8 columns]"
      ]
     },
     "execution_count": 15,
     "metadata": {},
     "output_type": "execute_result"
    }
   ],
   "source": [
    "dt=pd.read_csv('StudentsPerformance.csv')\n",
    "dt"
   ]
  },
  {
   "cell_type": "markdown",
   "id": "c3812304",
   "metadata": {},
   "source": [
    "# males and females participated in the test"
   ]
  },
  {
   "cell_type": "code",
   "execution_count": 16,
   "id": "f559774b",
   "metadata": {},
   "outputs": [
    {
     "name": "stdout",
     "output_type": "stream",
     "text": [
      "Number of male participated in the test: 482\n"
     ]
    }
   ],
   "source": [
    "male= dt['gender'].value_counts().male\n",
    "print('Number of male participated in the test:', male)"
   ]
  },
  {
   "cell_type": "code",
   "execution_count": 17,
   "id": "919c23d3",
   "metadata": {},
   "outputs": [
    {
     "name": "stdout",
     "output_type": "stream",
     "text": [
      "number of female participated in the test: 518\n"
     ]
    }
   ],
   "source": [
    "female= dt['gender'].value_counts().female\n",
    "print('number of female participated in the test:', female)"
   ]
  },
  {
   "cell_type": "markdown",
   "id": "26b60926",
   "metadata": {},
   "source": [
    "# students' parental level of education"
   ]
  },
  {
   "cell_type": "code",
   "execution_count": 23,
   "id": "b3c72b65",
   "metadata": {},
   "outputs": [
    {
     "data": {
      "text/plain": [
       "Text(0.5, 1.0, 'Comparison of Gender with parantel level of education')"
      ]
     },
     "execution_count": 23,
     "metadata": {},
     "output_type": "execute_result"
    },
    {
     "data": {
      "image/png": "[encoded data removed]",
      "text/plain": [
       "<Figure size 1440x720 with 1 Axes>"
      ]
     },
     "metadata": {
      "needs_background": "light"
     },
     "output_type": "display_data"
    }
   ],
   "source": [
    "plt.figure(figsize=(20,10))\n",
    "sns.swarmplot(x='gender',y='parental level of education', data= dt)\n",
    "plt.title('Comparison of Gender with parantel level of education',fontsize= 40)"
   ]
  },
  {
   "cell_type": "markdown",
   "id": "60c751a5",
   "metadata": {},
   "source": [
    "# Who scores the most on average for math, reading and writing based on gender"
   ]
  },
  {
   "cell_type": "code",
   "execution_count": 39,
   "id": "687d6a81",
   "metadata": {},
   "outputs": [
    {
     "data": {
      "text/html": [
       "<div>\n",
       "<style scoped>\n",
       "    .dataframe tbody tr th:only-of-type {\n",
       "        vertical-align: middle;\n",
       "    }\n",
       "\n",
       "    .dataframe tbody tr th {\n",
       "        vertical-align: top;\n",
       "    }\n",
       "\n",
       "    .dataframe thead th {\n",
       "        text-align: right;\n",
       "    }\n",
       "</style>\n",
       "<table border=\"1\" class=\"dataframe\">\n",
       "  <thead>\n",
       "    <tr style=\"text-align: right;\">\n",
       "      <th></th>\n",
       "      <th>math score</th>\n",
       "      <th>reading score</th>\n",
       "      <th>writing score</th>\n",
       "    </tr>\n",
       "    <tr>\n",
       "      <th>gender</th>\n",
       "      <th></th>\n",
       "      <th></th>\n",
       "      <th></th>\n",
       "    </tr>\n",
       "  </thead>\n",
       "  <tbody>\n",
       "    <tr>\n",
       "      <th>female</th>\n",
       "      <td>63.376448</td>\n",
       "      <td>72.590734</td>\n",
       "      <td>72.467181</td>\n",
       "    </tr>\n",
       "    <tr>\n",
       "      <th>male</th>\n",
       "      <td>68.821577</td>\n",
       "      <td>65.545643</td>\n",
       "      <td>63.446058</td>\n",
       "    </tr>\n",
       "  </tbody>\n",
       "</table>\n",
       "</div>"
      ],
      "text/plain": [
       "        math score  reading score  writing score\n",
       "gender                                          \n",
       "female   63.376448      72.590734      72.467181\n",
       "male     68.821577      65.545643      63.446058"
      ]
     },
     "execution_count": 39,
     "metadata": {},
     "output_type": "execute_result"
    }
   ],
   "source": [
    "d= dt.groupby(['gender']).mean()\n",
    "d"
   ]
  },
  {
   "cell_type": "code",
   "execution_count": 49,
   "id": "55d326c9",
   "metadata": {},
   "outputs": [
    {
     "name": "stdout",
     "output_type": "stream",
     "text": [
      "Male have most average math score comparing to female\n"
     ]
    }
   ],
   "source": [
    "if (d.iloc[0,0]>d.iloc[1,0]):\n",
    "    print('female has most average math score comparing to male')\n",
    "else:\n",
    "    print('Male have most average math score comparing to female')"
   ]
  },
  {
   "cell_type": "code",
   "execution_count": 50,
   "id": "70c19006",
   "metadata": {},
   "outputs": [
    {
     "name": "stdout",
     "output_type": "stream",
     "text": [
      "female has most average reading score comparing to male\n"
     ]
    }
   ],
   "source": [
    "if (d.iloc[0,1]>d.iloc[1,1]):\n",
    "    print('female has most average reading score comparing to male')\n",
    "else:\n",
    "    print('Male have most average reading score comparing to female')"
   ]
  },
  {
   "cell_type": "code",
   "execution_count": 51,
   "id": "74346554",
   "metadata": {},
   "outputs": [
    {
     "name": "stdout",
     "output_type": "stream",
     "text": [
      "female has most average writing score comparing to male\n"
     ]
    }
   ],
   "source": [
    "if (d.iloc[0,2]>d.iloc[1,2]):\n",
    "    print('female has most average writing score comparing to male')\n",
    "else:\n",
    "    print('Male have most average writing score comparing to female')"
   ]
  },
  {
   "cell_type": "code",
   "execution_count": 52,
   "id": "999e263a",
   "metadata": {},
   "outputs": [
    {
     "data": {
      "text/html": [
       "<div>\n",
       "<style scoped>\n",
       "    .dataframe tbody tr th:only-of-type {\n",
       "        vertical-align: middle;\n",
       "    }\n",
       "\n",
       "    .dataframe tbody tr th {\n",
       "        vertical-align: top;\n",
       "    }\n",
       "\n",
       "    .dataframe thead th {\n",
       "        text-align: right;\n",
       "    }\n",
       "</style>\n",
       "<table border=\"1\" class=\"dataframe\">\n",
       "  <thead>\n",
       "    <tr style=\"text-align: right;\">\n",
       "      <th></th>\n",
       "      <th>math score</th>\n",
       "      <th>reading score</th>\n",
       "      <th>writing score</th>\n",
       "    </tr>\n",
       "    <tr>\n",
       "      <th>test preparation course</th>\n",
       "      <th></th>\n",
       "      <th></th>\n",
       "      <th></th>\n",
       "    </tr>\n",
       "  </thead>\n",
       "  <tbody>\n",
       "    <tr>\n",
       "      <th>completed</th>\n",
       "      <td>69.96648</td>\n",
       "      <td>74.175978</td>\n",
       "      <td>74.684358</td>\n",
       "    </tr>\n",
       "    <tr>\n",
       "      <th>none</th>\n",
       "      <td>63.78972</td>\n",
       "      <td>66.417445</td>\n",
       "      <td>64.457944</td>\n",
       "    </tr>\n",
       "  </tbody>\n",
       "</table>\n",
       "</div>"
      ],
      "text/plain": [
       "                         math score  reading score  writing score\n",
       "test preparation course                                          \n",
       "completed                  69.96648      74.175978      74.684358\n",
       "none                       63.78972      66.417445      64.457944"
      ]
     },
     "execution_count": 52,
     "metadata": {},
     "output_type": "execute_result"
    }
   ],
   "source": [
    "d1= dt.groupby(['test preparation course']).mean()\n",
    "d1"
   ]
  },
  {
   "cell_type": "code",
   "execution_count": 53,
   "id": "006d50fa",
   "metadata": {},
   "outputs": [
    {
     "name": "stdout",
     "output_type": "stream",
     "text": [
      "course completed students  has most average math score comparing to those who not took the course\n"
     ]
    }
   ],
   "source": [
    "if (d1.iloc[0,0]>d1.iloc[1,0]):\n",
    "    print('course completed students  has most average math score comparing to those who not took the course')\n",
    "else:\n",
    "    print('those who not took the course have most average math score comparing to course completed students')"
   ]
  },
  {
   "cell_type": "code",
   "execution_count": 55,
   "id": "b5b3e969",
   "metadata": {},
   "outputs": [
    {
     "name": "stdout",
     "output_type": "stream",
     "text": [
      "course completed students has most average reading score comparing to those who not took the course\n"
     ]
    }
   ],
   "source": [
    "if (d1.iloc[0,1]>d1.iloc[1,1]):\n",
    "    print('course completed students has most average reading score comparing to those who not took the course')\n",
    "else:\n",
    "    print('those who not took the course have most average reading score comparing to course completed students ')"
   ]
  },
  {
   "cell_type": "code",
   "execution_count": 56,
   "id": "2cf8a2ed",
   "metadata": {},
   "outputs": [
    {
     "name": "stdout",
     "output_type": "stream",
     "text": [
      "course completed students has most average writing score comparing to those who not took the course\n"
     ]
    }
   ],
   "source": [
    "if (d1.iloc[0,2]>d1.iloc[1,2]):\n",
    "    print('course completed students has most average writing score comparing to those who not took the course')\n",
    "else:\n",
    "    print('those who not took the course have most average writing score comparing to course completed students ')"
   ]
  },
  {
   "cell_type": "markdown",
   "id": "0fb7d7e0",
   "metadata": {},
   "source": [
    "# scoring variation for math, reading and writing based on gender"
   ]
  },
  {
   "cell_type": "code",
   "execution_count": 57,
   "id": "e9d6306e",
   "metadata": {},
   "outputs": [
    {
     "data": {
      "text/html": [
       "<div>\n",
       "<style scoped>\n",
       "    .dataframe tbody tr th:only-of-type {\n",
       "        vertical-align: middle;\n",
       "    }\n",
       "\n",
       "    .dataframe tbody tr th {\n",
       "        vertical-align: top;\n",
       "    }\n",
       "\n",
       "    .dataframe thead th {\n",
       "        text-align: right;\n",
       "    }\n",
       "</style>\n",
       "<table border=\"1\" class=\"dataframe\">\n",
       "  <thead>\n",
       "    <tr style=\"text-align: right;\">\n",
       "      <th></th>\n",
       "      <th>math score</th>\n",
       "      <th>reading score</th>\n",
       "      <th>writing score</th>\n",
       "    </tr>\n",
       "    <tr>\n",
       "      <th>gender</th>\n",
       "      <th></th>\n",
       "      <th></th>\n",
       "      <th></th>\n",
       "    </tr>\n",
       "  </thead>\n",
       "  <tbody>\n",
       "    <tr>\n",
       "      <th>female</th>\n",
       "      <td>256.958593</td>\n",
       "      <td>207.677438</td>\n",
       "      <td>220.369327</td>\n",
       "    </tr>\n",
       "    <tr>\n",
       "      <th>male</th>\n",
       "      <td>211.889097</td>\n",
       "      <td>200.211010</td>\n",
       "      <td>202.413924</td>\n",
       "    </tr>\n",
       "  </tbody>\n",
       "</table>\n",
       "</div>"
      ],
      "text/plain": [
       "        math score  reading score  writing score\n",
       "gender                                          \n",
       "female  256.958593     207.677438     220.369327\n",
       "male    211.889097     200.211010     202.413924"
      ]
     },
     "execution_count": 57,
     "metadata": {},
     "output_type": "execute_result"
    }
   ],
   "source": [
    "dv= dt.groupby(['gender']).var()\n",
    "dv"
   ]
  },
  {
   "cell_type": "code",
   "execution_count": 58,
   "id": "4ee27b84",
   "metadata": {},
   "outputs": [
    {
     "name": "stdout",
     "output_type": "stream",
     "text": [
      "scoring variation for math score for female is greater than male\n"
     ]
    }
   ],
   "source": [
    "if (dv.iloc[0,0]>dv.iloc[1,0]):\n",
    "    print('scoring variation for math score for female is greater than male')\n",
    "else:\n",
    "    print('scoring variation for math score for male is greater than female')"
   ]
  },
  {
   "cell_type": "code",
   "execution_count": 59,
   "id": "3f521e03",
   "metadata": {},
   "outputs": [
    {
     "name": "stdout",
     "output_type": "stream",
     "text": [
      "scoring variation for reading score for female is greater than male\n"
     ]
    }
   ],
   "source": [
    "if (dv.iloc[0,1]>dv.iloc[1,1]):\n",
    "    print('scoring variation for reading score for female is greater than male')\n",
    "else:\n",
    "    print('scoring variation for reading score for male is greater than female')"
   ]
  },
  {
   "cell_type": "code",
   "execution_count": 60,
   "id": "4efb375f",
   "metadata": {},
   "outputs": [
    {
     "name": "stdout",
     "output_type": "stream",
     "text": [
      "scoring variation for writing score for female is greater than male\n"
     ]
    }
   ],
   "source": [
    "if (dv.iloc[0,2]>dv.iloc[1,2]):\n",
    "    print('scoring variation for writing score for female is greater than male')\n",
    "else:\n",
    "    print('scoring variation for writing score for male is greater than female')"
   ]
  },
  {
   "cell_type": "markdown",
   "id": "811db22a",
   "metadata": {},
   "source": [
    "# scoring variation for math, reading and writing based on Test preparation course"
   ]
  },
  {
   "cell_type": "code",
   "execution_count": 61,
   "id": "7b045910",
   "metadata": {},
   "outputs": [
    {
     "data": {
      "text/html": [
       "<div>\n",
       "<style scoped>\n",
       "    .dataframe tbody tr th:only-of-type {\n",
       "        vertical-align: middle;\n",
       "    }\n",
       "\n",
       "    .dataframe tbody tr th {\n",
       "        vertical-align: top;\n",
       "    }\n",
       "\n",
       "    .dataframe thead th {\n",
       "        text-align: right;\n",
       "    }\n",
       "</style>\n",
       "<table border=\"1\" class=\"dataframe\">\n",
       "  <thead>\n",
       "    <tr style=\"text-align: right;\">\n",
       "      <th></th>\n",
       "      <th>math score</th>\n",
       "      <th>reading score</th>\n",
       "      <th>writing score</th>\n",
       "    </tr>\n",
       "    <tr>\n",
       "      <th>test preparation course</th>\n",
       "      <th></th>\n",
       "      <th></th>\n",
       "      <th></th>\n",
       "    </tr>\n",
       "  </thead>\n",
       "  <tbody>\n",
       "    <tr>\n",
       "      <th>completed</th>\n",
       "      <td>210.884027</td>\n",
       "      <td>183.265864</td>\n",
       "      <td>175.202612</td>\n",
       "    </tr>\n",
       "    <tr>\n",
       "      <th>none</th>\n",
       "      <td>246.668662</td>\n",
       "      <td>213.419851</td>\n",
       "      <td>226.251739</td>\n",
       "    </tr>\n",
       "  </tbody>\n",
       "</table>\n",
       "</div>"
      ],
      "text/plain": [
       "                         math score  reading score  writing score\n",
       "test preparation course                                          \n",
       "completed                210.884027     183.265864     175.202612\n",
       "none                     246.668662     213.419851     226.251739"
      ]
     },
     "execution_count": 61,
     "metadata": {},
     "output_type": "execute_result"
    }
   ],
   "source": [
    "dv1= dt.groupby(['test preparation course']).var()\n",
    "dv1"
   ]
  },
  {
   "cell_type": "code",
   "execution_count": 62,
   "id": "7a106d52",
   "metadata": {},
   "outputs": [
    {
     "name": "stdout",
     "output_type": "stream",
     "text": [
      "scoring variation for math score for not completed is greater than completed\n"
     ]
    }
   ],
   "source": [
    "if (dv1.iloc[0,0]>dv1.iloc[1,0]):\n",
    "    print('scoring variation for math score for completed studends is greater than not completed')\n",
    "else:\n",
    "    print('scoring variation for math score for not completed is greater than completed')"
   ]
  },
  {
   "cell_type": "code",
   "execution_count": 63,
   "id": "8b8a0433",
   "metadata": {},
   "outputs": [
    {
     "name": "stdout",
     "output_type": "stream",
     "text": [
      "scoring variation for reading score for not completed is greater than completed\n"
     ]
    }
   ],
   "source": [
    "if (dv1.iloc[0,1]>dv1.iloc[1,1]):\n",
    "    print('scoring variation for reading score for completed studends is greater than not completed')\n",
    "else:\n",
    "    print('scoring variation for reading score for not completed is greater than completed')"
   ]
  },
  {
   "cell_type": "code",
   "execution_count": 64,
   "id": "a803da62",
   "metadata": {},
   "outputs": [
    {
     "name": "stdout",
     "output_type": "stream",
     "text": [
      "scoring variation for math score for not completed is greater than completed\n"
     ]
    }
   ],
   "source": [
    "if (dv1.iloc[0,2]>dv1.iloc[1,2]):\n",
    "    print('scoring variation for writing score for completed studends is greater than not completed')\n",
    "else:\n",
    "    print('scoring variation for math score for not completed is greater than completed')"
   ]
  },
  {
   "cell_type": "markdown",
   "id": "9beda6ae",
   "metadata": {},
   "source": [
    "# top 25% of students based on their maths score"
   ]
  },
  {
   "cell_type": "code",
   "execution_count": 75,
   "id": "adb9c16c",
   "metadata": {},
   "outputs": [
    {
     "data": {
      "text/plain": [
       "\"     gender race/ethnicity parental level of education         lunch test preparation course  math score  reading score  writing score\\n414  female        group A                 high school  free/reduced               completed          77             88             85\\n415  female        group B             master's degree  free/reduced               completed          77             97             94\\n416  female        group B           bachelor's degree  free/reduced                    none          77             85             87\\n417  female        group B             master's degree      standard                    none          77             90             84\\n418  female        group B                 high school      standard               completed          77             82             89\\n419  female        group C           bachelor's degree      standard                    none          77             88             87\\n420  female        group C           bachelor's degree      standard               completed          77             94             95\\n421  female        group C                some college  free/reduced                    none          77             90             91\\n422  female        group C            some high school      standard               completed          77             90             85\\n423  female        group C            some high school      standard                    none          77             91             88\\n424  female        group D          associate's degree  free/reduced               completed          77             89             98\\n425  female        group D             master's degree      standard               completed          77             82             91\\n426  female        group D                some college      standard                    none          77             68             77\\n427  female        group D          associate's degree      standard                    none          77             77             73\\n428  female        group D                some college  free/reduced                    none          77             86             86\\n429  female        group E            some high school      standard                    none          77             79             80\\n430  female        group A                some college      standard               completed          78             87             91\\n431  female        group B           bachelor's degree  free/reduced                    none          78             79             76\\n432  female        group D           bachelor's degree      standard                    none          78             82             79\\n433  female        group D                 high school      standard                    none          78             81             80\\n434  female        group D           bachelor's degree  free/reduced                    none          78             90             93\\n435  female        group D             master's degree      standard                    none          78             91             96\\n436  female        group B                some college      standard                    none          79             86             92\\n437  female        group C           bachelor's degree      standard               completed          79             92             89\\n438  female        group D                some college      standard                    none          79             86             81\\n439  female        group D           bachelor's degree      standard                    none          79             89             89\\n440  female        group D                some college  free/reduced                    none          79             89             86\\n441  female        group D                some college      standard               completed          79             84             91\\n442  female        group E          associate's degree      standard               completed          79             88             94\\n443  female        group E           bachelor's degree      standard               completed          79             81             82\\n444  female        group B          associate's degree      standard                    none          80             86             83\\n445  female        group D                some college      standard                    none          80             90             89\\n446  female        group D            some high school      standard                    none          80             90             82\\n447  female        group D            some high school      standard               completed          80             92             88\\n448  female        group E           bachelor's degree      standard                    none          80             83             83\\n449  female        group E            some high school      standard               completed          80             85             85\\n450  female        group B                 high school      standard                    none          81             91             89\\n451  female        group C             master's degree      standard               completed          81             91             87\\n452  female        group C           bachelor's degree      standard                    none          81             88             90\\n453  female        group C          associate's degree      standard                    none          81             77             79\\n454  female        group C                 high school      standard                    none          81             84             82\\n455  female        group D            some high school      standard                    none          81             97             96\\n456  female        group E             master's degree      standard                    none          81             92             91\\n457  female        group E             master's degree  free/reduced                    none          81             86             87\\n458  female        group A          associate's degree      standard                    none          82             93             93\\n459  female        group B          associate's degree      standard                    none          82             80             77\\n460  female        group B            some high school      standard                    none          82             82             80\\n461  female        group B                some college      standard                    none          82             85             87\\n462  female        group C                some college      standard                    none          82             90             94\\n463  female        group C          associate's degree  free/reduced               completed          82             93             93\\n464  female        group D                some college      standard               completed          82             97             96\\n465  female        group D          associate's degree      standard                    none          82             95             89\\n466  female        group E          associate's degree      standard               completed          82             85             86\\n467  female        group C           bachelor's degree      standard                    none          83             93             95\\n468  female        group C          associate's degree      standard               completed          83             85             90\\n469  female        group C                some college      standard                    none          83             83             90\\n470  female        group E          associate's degree  free/reduced               completed          83             86             88\\n471  female        group C                some college      standard                    none          84             87             91\\n472  female        group E          associate's degree      standard                    none          84             95             92\\n473  female        group A            some high school      standard               completed          85             90             92\\n474  female        group C            some high school      standard               completed          85             92             93\\n475  female        group C          associate's degree      standard                    none          85             89             95\\n476  female        group C          associate's degree      standard                    none          85             84             82\\n477  female        group D          associate's degree      standard                    none          85             91             89\\n478  female        group D             master's degree  free/reduced               completed          85             95            100\\n479  female        group D                some college      standard               completed          85             86             98\\n480  female        group E          associate's degree      standard                    none          85             92             85\\n481  female        group C           bachelor's degree      standard                    none          86             92             87\\n482  female        group E                some college      standard               completed          86             85             91\\n483  female        group B                 high school      standard                    none          87             95             86\\n484  female        group C                some college      standard               completed          87             89             94\\n485  female        group D             master's degree      standard                    none          87            100            100\\n486  female        group E          associate's degree      standard                    none          87             94             95\\n487  female        group E                some college      standard                    none          87             85             93\\n488  female        group B                some college      standard               completed          88             95             92\\n489  female        group C                some college      standard               completed          88             93             93\\n490  female        group C                some college      standard               completed          88             95             94\\n491  female        group D          associate's degree      standard               completed          88             92             95\\n492  female        group D                 high school      standard               completed          88             99            100\\n493  female        group E             master's degree      standard               completed          88             99             95\\n494  female        group D           bachelor's degree      standard                    none          89            100            100\\n495  female        group B             master's degree      standard                    none          90             95             93\\n496  female        group B          associate's degree      standard               completed          90             90             91\\n497  female        group C          associate's degree      standard                    none          91             86             84\\n498  female        group C          associate's degree      standard                    none          91             95             94\\n499  female        group A            some high school      standard               completed          92            100             97\\n500  female        group C           bachelor's degree      standard               completed          92            100             99\\n501  female        group D             master's degree      standard                    none          92            100            100\\n502  female        group E           bachelor's degree  free/reduced               completed          92            100            100\\n503  female        group D           bachelor's degree  free/reduced               completed          93            100            100\\n504  female        group E          associate's degree      standard               completed          93            100             95\\n505  female        group B          associate's degree      standard               completed          94             87             92\\n506  female        group E             master's degree      standard               completed          94             99            100\\n507  female        group E          associate's degree      standard               completed          95             89             92\\n508  female        group C           bachelor's degree      standard               completed          96            100            100\\n509  female        group C          associate's degree      standard               completed          96             96             99\\n510  female        group B           bachelor's degree      standard                    none          97             97             96\\n511  female        group D            some high school      standard               completed          97            100            100\\n512  female        group D                some college      standard                    none          98            100             99\\n513  female        group E           bachelor's degree      standard               completed          99            100            100\\n514  female        group E                 high school      standard                    none          99             93             90\\n515  female        group E                some college      standard                    none         100             92             97\\n516  female        group E           bachelor's degree      standard                    none         100            100            100\\n517  female        group E          associate's degree      standard                    none         100            100            100\\n849    male        group A           bachelor's degree      standard                    none          77             67             68\\n850    male        group C          associate's degree  free/reduced                    none          77             67             64\\n851    male        group D                some college      standard               completed          77             62             62\\n852    male        group D                some college  free/reduced                    none          77             62             64\\n853    male        group D          associate's degree  free/reduced                    none          77             78             73\\n854    male        group D            some high school      standard               completed          77             68             69\\n855    male        group E          associate's degree  free/reduced               completed          77             69             68\\n856    male        group E            some high school      standard               completed          77             76             77\\n857    male        group A                some college      standard               completed          78             72             70\\n858    male        group B                 high school      standard               completed          78             69             67\\n859    male        group C          associate's degree  free/reduced               completed          78             81             82\\n860    male        group C          associate's degree      standard               completed          78             77             77\\n861    male        group C            some high school      standard               completed          78             72             69\\n862    male        group D                 high school  free/reduced               completed          78             77             80\\n863    male        group D            some high school      standard               completed          78             81             86\\n864    male        group E            some high school  free/reduced               completed          78             83             80\\n865    male        group E          associate's degree  free/reduced               completed          78             74             72\\n866    male        group A            some high school  free/reduced                    none          79             82             73\\n867    male        group A          associate's degree  free/reduced               completed          79             82             82\\n868    male        group B                some college      standard                    none          79             67             67\\n869    male        group B                 high school      standard                    none          79             60             65\\n870    male        group B            some high school      standard               completed          79             85             86\\n871    male        group C                some college      standard               completed          79             79             78\\n872    male        group C             master's degree  free/reduced                    none          79             81             71\\n873    male        group C             master's degree      standard                    none          79             78             77\\n874    male        group C             master's degree      standard                    none          79             72             69\\n875    male        group C            some high school  free/reduced                    none          79             76             65\\n876    male        group C             master's degree  free/reduced               completed          79             77             75\\n877    male        group D                some college      standard                    none          79             73             67\\n878    male        group D          associate's degree  free/reduced               completed          79             82             80\\n879    male        group E           bachelor's degree  free/reduced               completed          79             74             72\\n880    male        group A           bachelor's degree      standard               completed          80             78             81\\n881    male        group B          associate's degree      standard                    none          80             76             64\\n882    male        group C                some college  free/reduced                    none          80             64             66\\n883    male        group D            some high school  free/reduced               completed          80             79             79\\n884    male        group D          associate's degree      standard                    none          80             75             77\\n885    male        group D             master's degree      standard                    none          80             80             72\\n886    male        group D          associate's degree      standard                    none          80             68             72\\n887    male        group D          associate's degree      standard                    none          80             63             63\\n888    male        group D           bachelor's degree      standard                    none          80             73             72\\n889    male        group D          associate's degree      standard                    none          80             75             69\\n890    male        group E                 high school      standard                    none          80             76             65\\n891    male        group A                some college  free/reduced               completed          81             78             81\\n892    male        group B          associate's degree      standard               completed          81             82             82\\n893    male        group B          associate's degree      standard                    none          81             73             72\\n894    male        group C                 high school      standard                    none          81             66             64\\n895    male        group D          associate's degree      standard               completed          81             72             77\\n896    male        group D          associate's degree  free/reduced                    none          81             75             78\\n897    male        group D             master's degree      standard                    none          81             81             84\\n898    male        group D          associate's degree      standard                    none          81             71             73\\n899    male        group D                some college      standard                    none          81             82             84\\n900    male        group D            some high school      standard                    none          81             78             78\\n901    male        group E          associate's degree      standard               completed          81             81             79\\n902    male        group E                 high school      standard               completed          81             80             76\\n903    male        group E                some college      standard               completed          81             74             71\\n904    male        group E            some high school      standard               completed          81             75             76\\n905    male        group B          associate's degree  free/reduced               completed          82             78             74\\n906    male        group B          associate's degree      standard               completed          82             84             78\\n907    male        group B                 high school      standard                    none          82             82             80\\n908    male        group C                 high school      standard               completed          82             84             82\\n909    male        group C          associate's degree      standard               completed          82             75             77\\n910    male        group D             master's degree      standard                    none          82             82             74\\n911    male        group D                some college      standard               completed          82             82             88\\n912    male        group E           bachelor's degree      standard                    none          82             62             62\\n913    male        group E            some high school      standard                    none          82             67             61\\n914    male        group C           bachelor's degree      standard               completed          83             82             84\\n915    male        group C           bachelor's degree      standard                    none          83             78             73\\n916    male        group C          associate's degree      standard                    none          83             72             78\\n917    male        group E                some college      standard                    none          83             80             73\\n918    male        group B            some high school      standard               completed          84             83             75\\n919    male        group C                 high school      standard                    none          84             77             74\\n920    male        group C          associate's degree      standard                    none          84             80             80\\n921    male        group C                some college      standard                    none          84             87             81\\n922    male        group D             master's degree  free/reduced               completed          84             89             90\\n923    male        group D            some high school      standard                    none          84             84             80\\n924    male        group E                some college      standard                    none          84             77             71\\n925    male        group E                some college      standard               completed          84             83             78\\n926    male        group E                 high school      standard                    none          84             73             69\\n927    male        group B            some high school      standard               completed          85             84             78\\n928    male        group C          associate's degree      standard                    none          85             76             71\\n929    male        group D             master's degree      standard                    none          85             84             89\\n930    male        group D                some college      standard               completed          85             81             85\\n931    male        group E           bachelor's degree      standard               completed          85             66             71\\n932    male        group E                some college      standard               completed          85             75             68\\n933    male        group C           bachelor's degree      standard                    none          86             83             86\\n934    male        group C                 high school      standard               completed          86             81             80\\n935    male        group D            some high school      standard                    none          86             80             75\\n936    male        group D            some high school      standard                    none          86             73             70\\n937    male        group E                some college      standard                    none          86             76             74\\n938    male        group E                 high school  free/reduced               completed          86             81             75\\n939    male        group A           bachelor's degree      standard               completed          87             84             87\\n940    male        group B          associate's degree      standard                    none          87             85             73\\n941    male        group B           bachelor's degree  free/reduced               completed          87             90             88\\n942    male        group B                some college      standard               completed          87             84             86\\n943    male        group C          associate's degree      standard               completed          87            100             95\\n944    male        group C          associate's degree  free/reduced                    none          87             73             72\\n945    male        group D          associate's degree      standard               completed          87             84             85\\n946    male        group E                some college  free/reduced               completed          87             74             70\\n947    male        group E                 high school      standard               completed          87             91             81\\n948    male        group E          associate's degree      standard                    none          87             74             76\\n949    male        group E            some high school      standard               completed          87             84             76\\n950    male        group B            some high school      standard                    none          88             84             75\\n951    male        group B                some college      standard               completed          88             85             76\\n952    male        group B           bachelor's degree  free/reduced                    none          88             75             76\\n953    male        group C                 high school      standard                    none          88             89             86\\n954    male        group D                 high school      standard                    none          88             78             75\\n955    male        group D                some college      standard                    none          88             73             78\\n956    male        group D           bachelor's degree      standard                    none          88             78             83\\n957    male        group D            some high school      standard               completed          88             74             75\\n958    male        group D                some college      standard                    none          88             77             77\\n959    male        group D             master's degree      standard                    none          89             84             82\\n960    male        group D            some high school      standard               completed          89             88             82\\n961    male        group D                 high school      standard                    none          89             87             79\\n962    male        group E          associate's degree      standard                    none          89             76             74\\n963    male        group E            some high school      standard               completed          89             84             77\\n964    male        group B          associate's degree      standard                    none          90             78             81\\n965    male        group B                some college      standard               completed          90             95             92\\n966    male        group C                 high school      standard                    none          90             75             69\\n967    male        group D          associate's degree  free/reduced                    none          90             87             75\\n968    male        group D          associate's degree      standard                    none          90             87             85\\n969    male        group E             master's degree      standard                    none          90             85             84\\n970    male        group E          associate's degree  free/reduced                    none          90             90             82\\n971    male        group A           bachelor's degree      standard                    none          91             96             92\\n972    male        group B          associate's degree      standard               completed          91             89             92\\n973    male        group B                some college      standard               completed          91             96             91\\n974    male        group C                some college      standard                    none          91             74             76\\n975    male        group C           bachelor's degree      standard               completed          91             81             79\\n976    male        group C             master's degree      standard               completed          91             85             85\\n977    male        group E          associate's degree  free/reduced               completed          91             73             80\\n978    male        group C          associate's degree      standard                    none          92             79             84\\n979    male        group E            some high school      standard                    none          92             87             78\\n980    male        group C                some college      standard               completed          93             84             90\\n981    male        group E                some college  free/reduced                    none          93             90             83\\n982    male        group B            some high school      standard               completed          94             86             87\\n983    male        group C           bachelor's degree      standard               completed          94             90             91\\n984    male        group E            some high school      standard                    none          94             88             78\\n985    male        group E          associate's degree      standard               completed          94             85             82\\n986    male        group E                 high school      standard                    none          94             73             71\\n987    male        group D             master's degree      standard                    none          95             81             84\\n988    male        group C           bachelor's degree      standard               completed          96             90             92\\n989    male        group A          associate's degree      standard               completed          97             92             86\\n990    male        group C          associate's degree      standard                    none          97             93             91\\n991    male        group E                some college      standard                    none          97             87             82\\n992    male        group E          associate's degree      standard               completed          97             82             88\\n993    male        group C                some college      standard               completed          98             86             90\\n994    male        group C          associate's degree      standard               completed          98             87             90\\n995    male        group E                some college      standard               completed          99             87             81\\n996    male        group A                some college      standard               completed         100             96             86\\n997    male        group D                some college      standard               completed         100             97             99\\n998    male        group E          associate's degree  free/reduced               completed         100            100             93\\n999    male        group E           bachelor's degree      standard               completed         100            100            100\""
      ]
     },
     "execution_count": 75,
     "metadata": {},
     "output_type": "execute_result"
    }
   ],
   "source": [
    "q75= dt['math score'].quantile(q=0.75)\n",
    "p=dt[dt['math score'].ge(q75)]\n",
    "p.to_string()\n"
   ]
  },
  {
   "cell_type": "code",
   "execution_count": null,
   "id": "ed5f3894",
   "metadata": {},
   "outputs": [],
   "source": []
  },
  {
   "cell_type": "code",
   "execution_count": null,
   "id": "fc9763fc",
   "metadata": {},
   "outputs": [],
   "source": []
  }
 ],
 "metadata": {
  "kernelspec": {
   "display_name": "Python 3",
   "language": "python",
   "name": "python3"
  },
  "language_info": {
   "codemirror_mode": {
    "name": "ipython",
    "version": 3
   },
   "file_extension": ".py",
   "mimetype": "text/x-python",
   "name": "python",
   "nbconvert_exporter": "python",
   "pygments_lexer": "ipython3",
   "version": "3.8.8"
  }
 },
 "nbformat": 4,
 "nbformat_minor": 5
}
